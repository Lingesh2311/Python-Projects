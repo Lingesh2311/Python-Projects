{
 "cells": [
  {
   "cell_type": "markdown",
   "metadata": {},
   "source": [
    "### Introduction\n",
    "\n",
    "<p align=\"justify\">\n",
    "Banking is a very important sector. In 2018, the revenue of the banking sector was at $\\$ 2.44$ trillion and is at $\\$ 2.5$ trillion this year. This is projected to increase in the upcoming years. \n",
    "</p>\n",
    "\n",
    "<p align=\"justify\">\n",
    "In developed countries, banking accounts to $20\\%$ of the GDP. This makes banking a massive sector for the economy of a country. So,there are various scenarios for which ML/ DS is applied when it comes to banking.\n",
    "</p>\n",
    "\n",
    "<ol>\n",
    "    <li>Fraud detection</li>\n",
    "        <p align=\"center\"> The banking is a very lucrative industry. $0.1\\%$ of all credit card transactions is fraudlent. This makes for a large amount. Online banking is a major place where this happens. There are also instances when the false positive scenarios take over the model. This will create a bad user experience. One interesting case is the \"Benford's Law\"</p>\n",
    "    <li>Customer Service Automation</li>\n",
    "        <p align=\"center\"> The functions inside a banking are automated. We are talking to AI, like the one in []()\n",
    "</ol>"
   ]
  },
  {
   "cell_type": "code",
   "execution_count": null,
   "metadata": {},
   "outputs": [],
   "source": []
  }
 ],
 "metadata": {
  "kernelspec": {
   "display_name": "Python 3",
   "language": "python",
   "name": "python3"
  },
  "language_info": {
   "codemirror_mode": {
    "name": "ipython",
    "version": 3
   },
   "file_extension": ".py",
   "mimetype": "text/x-python",
   "name": "python",
   "nbconvert_exporter": "python",
   "pygments_lexer": "ipython3",
   "version": "3.7.3"
  }
 },
 "nbformat": 4,
 "nbformat_minor": 2
}
