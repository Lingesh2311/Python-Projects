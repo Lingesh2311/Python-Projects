{
 "cells": [
  {
   "cell_type": "markdown",
   "metadata": {},
   "source": [
    "<center><u><H1>Hyperparameter Optimization: GridSearchCV</H1></u></center>"
   ]
  },
  {
   "cell_type": "markdown",
   "metadata": {},
   "source": [
    "## Data:"
   ]
  },
  {
   "cell_type": "code",
   "execution_count": null,
   "metadata": {},
   "outputs": [],
   "source": [
    "import numpy as np\n",
    "import pandas as pd\n",
    "import warnings\n",
    "warnings.filterwarnings('ignore')\n",
    "\n",
    "dataset = pd.read_csv('train_cleaned.csv')"
   ]
  },
  {
   "cell_type": "code",
   "execution_count": null,
   "metadata": {},
   "outputs": [],
   "source": [
    "X = dataset.values[:,:-1].astype(np.float64)\n",
    "y = dataset.values[:,-1].astype(np.float64)"
   ]
  },
  {
   "cell_type": "code",
   "execution_count": null,
   "metadata": {},
   "outputs": [],
   "source": [
    "from sklearn.preprocessing import StandardScaler\n",
    "sc = StandardScaler()\n",
    "X_std = sc.fit_transform(X)"
   ]
  },
  {
   "cell_type": "markdown",
   "metadata": {},
   "source": [
    "## Models:"
   ]
  },
  {
   "cell_type": "code",
   "execution_count": null,
   "metadata": {},
   "outputs": [],
   "source": [
    "from sklearn.neighbors import KNeighborsClassifier as KNN\n",
    "from sklearn.svm import SVC\n",
    "from sklearn.linear_model import LogisticRegression \n",
    "from sklearn.ensemble import RandomForestClassifier\n",
    "from sklearn.tree import DecisionTreeClassifier\n",
    "from sklearn.svm import NuSVC"
   ]
  },
  {
   "cell_type": "code",
   "execution_count": null,
   "metadata": {},
   "outputs": [],
   "source": [
    "svm = SVC()\n",
    "nusvc = NuSVC()\n",
    "knn = KNN()\n",
    "lr = LogisticRegression()\n",
    "rf = RandomForestClassifier()\n",
    "dtc = DecisionTreeClassifier()"
   ]
  },
  {
   "cell_type": "code",
   "execution_count": null,
   "metadata": {},
   "outputs": [],
   "source": [
    "from sklearn.model_selection import GridSearchCV"
   ]
  },
  {
   "cell_type": "code",
   "execution_count": null,
   "metadata": {},
   "outputs": [],
   "source": [
    "clf_svm = GridSearchCV(svm, {'kernel':['poly','rbf'], 'C':[0.1, 1], 'gamma':[0.1, 0.5]},cv=10)\n",
    "clf_nusvc = GridSearchCV(nusvc, {'kernel':['poly','rbf','sigmoid'], 'nu':[0.1, 0.2, 0.3, 0.4, 0.5], 'degree': np.arange(7),\n",
    "                                 'gamma':[0.1, 0.5, 1.0, 0.01, 0.02, 0.03, 0.04, 0.05, 0.2], 'decision_function_shape':\n",
    "                                 ['ovr','ovo']})\n",
    "clf_knn = GridSearchCV(knn, {'n_neighbors':np.arange(1,30), 'weights': ['uniform', 'distance']},cv=10)\n",
    "clf_lr = GridSearchCV(lr, {'C':[1000, 100, 10, 1]},cv=10)\n",
    "clf_rf = GridSearchCV(rf, {'n_estimators':[50,100,500,1000]},cv=10)\n",
    "clf_dtc = GridSearchCV(dtc,{'max_depth' : np.arange(1, 21),\n",
    "                             'min_samples_leaf' : [1, 5, 10, 20, 50, 100]}, cv=10)"
   ]
  },
  {
   "cell_type": "code",
   "execution_count": null,
   "metadata": {
    "scrolled": false
   },
   "outputs": [],
   "source": [
    "clf_svm.fit(X, y)"
   ]
  },
  {
   "cell_type": "code",
   "execution_count": null,
   "metadata": {},
   "outputs": [],
   "source": [
    "clf_nusvc.fit(X, y)"
   ]
  },
  {
   "cell_type": "code",
   "execution_count": null,
   "metadata": {},
   "outputs": [],
   "source": [
    "clf_lr.fit(X, y)"
   ]
  },
  {
   "cell_type": "code",
   "execution_count": null,
   "metadata": {},
   "outputs": [],
   "source": [
    "clf_knn.fit(X, y)"
   ]
  },
  {
   "cell_type": "code",
   "execution_count": null,
   "metadata": {},
   "outputs": [],
   "source": [
    "clf_rf.fit(X, y)"
   ]
  },
  {
   "cell_type": "code",
   "execution_count": null,
   "metadata": {},
   "outputs": [],
   "source": [
    "clf_dtc.fit(X, y)"
   ]
  },
  {
   "cell_type": "markdown",
   "metadata": {},
   "source": [
    "## Best Params:"
   ]
  },
  {
   "cell_type": "code",
   "execution_count": null,
   "metadata": {},
   "outputs": [],
   "source": [
    "print('Logistic Regression: ')\n",
    "print(f'Best Score: {clf_lr.best_score_}')\n",
    "print(f'Best Parameter: {clf_lr.best_params_}')\n",
    "print(f'Best Estimator: {clf_lr.best_estimator_}')"
   ]
  },
  {
   "cell_type": "code",
   "execution_count": null,
   "metadata": {},
   "outputs": [],
   "source": [
    "print('KNN: ')\n",
    "print(f'Best Score: {clf_knn.best_score_}')\n",
    "print(f'Best Parameter: {clf_knn.best_params_}')\n",
    "print(f'Best Estimator: {clf_knn.best_estimator_}')"
   ]
  },
  {
   "cell_type": "code",
   "execution_count": null,
   "metadata": {},
   "outputs": [],
   "source": [
    "print('SVM: ')\n",
    "print(f'Best Score: {clf_svm.best_score_}')\n",
    "print(f'Best Score: {clf_svm.best_params_}')\n",
    "print(f'Best Score: {clf_svm.best_estimator_}')"
   ]
  },
  {
   "cell_type": "code",
   "execution_count": null,
   "metadata": {},
   "outputs": [],
   "source": [
    "print('Random Forests: ')\n",
    "print(f'Best Score: {clf_rf.best_score_}')\n",
    "print(f'Best Score: {clf_rf.best_params_}')\n",
    "print(f'Best Score: {clf_rf.best_estimator_}')"
   ]
  },
  {
   "cell_type": "code",
   "execution_count": null,
   "metadata": {},
   "outputs": [],
   "source": [
    "print('Decision Trees: ')\n",
    "print(f'Best Score: {clf_dtc.best_score_}')\n",
    "print(f'Best Score: {clf_dtc.best_params_}')\n",
    "print(f'Best Score: {clf_dtc.best_estimator_}')"
   ]
  },
  {
   "cell_type": "markdown",
   "metadata": {},
   "source": [
    "## Mean and Standard Deviation:"
   ]
  },
  {
   "cell_type": "code",
   "execution_count": null,
   "metadata": {},
   "outputs": [],
   "source": [
    "mean = clf_lr.cv_results_['mean_test_score']\n",
    "mean"
   ]
  },
  {
   "cell_type": "code",
   "execution_count": null,
   "metadata": {},
   "outputs": [],
   "source": [
    "std = clf_lr.cv_results_['std_test_score']\n",
    "std"
   ]
  },
  {
   "cell_type": "code",
   "execution_count": null,
   "metadata": {},
   "outputs": [],
   "source": [
    "clf_lr.cv_results_['params']"
   ]
  },
  {
   "cell_type": "code",
   "execution_count": null,
   "metadata": {},
   "outputs": [],
   "source": [
    "mean = clf_lr.cv_results_['mean_test_score']\n",
    "std = clf_lr.cv_results_['std_test_score']\n",
    "for mean, std, params in zip(mean, std, clf_lr.cv_results_['params']):\n",
    "    print('{a:0.3f} +/-{b:0.3f} for {c}'.format(a=mean, b=std * 2, c=params))"
   ]
  },
  {
   "cell_type": "code",
   "execution_count": null,
   "metadata": {},
   "outputs": [],
   "source": [
    "mean = clf_knn.cv_results_['mean_test_score']\n",
    "std = clf_knn.cv_results_['std_test_score']\n",
    "for mean, std, params in zip(mean, std, clf_knn.cv_results_['params']):\n",
    "    print('{a:0.3f} +/-{b:0.3f} for {c}'.format(a=mean, b=std * 2, c=params))"
   ]
  },
  {
   "cell_type": "code",
   "execution_count": null,
   "metadata": {},
   "outputs": [],
   "source": [
    "mean = clf_rf.cv_results_['mean_test_score']\n",
    "std = clf_rf.cv_results_['std_test_score']\n",
    "for mean, std, params in zip(mean, std, clf_rf.cv_results_['params']):\n",
    "    print('{a:0.3f} +/-{b:0.3f} for {c}'.format(a=mean, b=std * 2, c=params))"
   ]
  },
  {
   "cell_type": "code",
   "execution_count": null,
   "metadata": {},
   "outputs": [],
   "source": [
    "mean = clf_svm.cv_results_['mean_test_score']\n",
    "std = clf_svm.cv_results_['std_test_score']\n",
    "for mean, std, params in zip(mean, std, clf_svm.cv_results_['params']):\n",
    "    print('{a:0.3f} +/-{b:0.3f} for {c}'.format(a=mean, b=std * 2, c=params))"
   ]
  }
 ],
 "metadata": {
  "kernelspec": {
   "display_name": "Python 3",
   "language": "python",
   "name": "python3"
  },
  "language_info": {
   "codemirror_mode": {
    "name": "ipython",
    "version": 3
   },
   "file_extension": ".py",
   "mimetype": "text/x-python",
   "name": "python",
   "nbconvert_exporter": "python",
   "pygments_lexer": "ipython3",
   "version": "3.7.2"
  }
 },
 "nbformat": 4,
 "nbformat_minor": 2
}
